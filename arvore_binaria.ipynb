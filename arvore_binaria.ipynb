{
 "cells": [
  {
   "cell_type": "code",
   "execution_count": 3,
   "metadata": {
    "collapsed": false
   },
   "outputs": [],
   "source": [
    "class ABNode:\n",
    "    def __init__(self, raiz=None, le=None, ld=None):\n",
    "        self.raiz = raiz\n",
    "        self.le = le\n",
    "        self.ld = ld\n",
    "\n",
    "class ABin:\n",
    "    def __init__(self, raiz=None):\n",
    "        self.raiz = raiz\n",
    "        \n",
    "    def inserir_le(no):\n",
    "        if self.raiz == None:\n",
    "            self.raiz = no\n",
    "        elif self.raiz.le == None:\n",
    "            self.raiz.le = no\n",
    "        elif self.raiz.ld == None:\n",
    "            self.raiz.ld = no\n",
    "        else:\n",
    "            self.raiz.le.inserir()\n",
    "    \n",
    "    def inserir_ld(no):\n",
    "        if self.raiz == None:\n",
    "            self.raiz = no\n",
    "        elif self.raiz.le == None:\n",
    "            self.raiz.le = no\n",
    "        elif self.raiz.ld == None:\n",
    "            self.raiz.ld = no\n",
    "        else:\n",
    "            self.raiz.ld.inserir()"
   ]
  },
  {
   "cell_type": "code",
   "execution_count": null,
   "metadata": {
    "collapsed": true
   },
   "outputs": [],
   "source": []
  }
 ],
 "metadata": {
  "kernelspec": {
   "display_name": "Python 3",
   "language": "python",
   "name": "python3"
  },
  "language_info": {
   "codemirror_mode": {
    "name": "ipython",
    "version": 3
   },
   "file_extension": ".py",
   "mimetype": "text/x-python",
   "name": "python",
   "nbconvert_exporter": "python",
   "pygments_lexer": "ipython3",
   "version": "3.5.1"
  }
 },
 "nbformat": 4,
 "nbformat_minor": 0
}
